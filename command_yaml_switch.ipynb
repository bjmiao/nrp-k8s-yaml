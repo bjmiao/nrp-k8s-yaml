{
 "cells": [
  {
   "cell_type": "code",
   "execution_count": 1,
   "id": "25c13f13",
   "metadata": {},
   "outputs": [
    {
     "name": "stdout",
     "output_type": "stream",
     "text": [
      "['python', 'train.py', '--lr', '0.0001', '--max_epochs', '500', '--n_dim_hidden', '64', '--n_dim_latent', '32', '--batch_size', '32', '--data_path', '/volume/mydata/video_analysis', '--train_set_ratio', '0.9', '--save_path', '/volume/code/MMVAE_playground/results/region_motion', '--session_name', 'th_rl1e_4_zscore_l32', '--read_sessions', '22R_D1_SFO_MidBrain_g0_imec0_data', '22R_D1_SFO_MidBrain_g0_imec1_data', '--region1', 'spike_matrix_th.npy', '--region2', 'video_motSVD.npy', '--transform', 'zscore', '--a_neuron', '1', '--a_motion', '0.1']\n"
     ]
    }
   ],
   "source": [
    "# given a command in the format a string, generate the yaml field args\n",
    "\n",
    "import argparse\n",
    "\n",
    "command = \"\"\"\n",
    "python train.py \\\n",
    "    --lr 0.0001 --max_epochs 500 \\\n",
    "    --n_dim_hidden 64 --n_dim_latent 32 --batch_size 32 \\\n",
    "    --data_path /volume/mydata/video_analysis \\\n",
    "    --train_set_ratio 0.9 \\\n",
    "    --save_path /volume/code/MMVAE_playground/results/region_motion --session_name th_rl1e_4_zscore_l32 \\\n",
    "    --read_sessions 22R_D1_SFO_MidBrain_g0_imec0_data 22R_D1_SFO_MidBrain_g0_imec1_data \\\n",
    "    --region1 spike_matrix_th.npy --region2 video_motSVD.npy \\\n",
    "    --transform zscore \\\n",
    "    --a_neuron 1 --a_motion 0.1\n",
    "\"\"\"\n",
    "\n",
    "args = command.split()\n",
    "print(args)\n",
    "\n"
   ]
  },
  {
   "cell_type": "code",
   "execution_count": null,
   "id": "298d4195",
   "metadata": {},
   "outputs": [
    {
     "name": "stdout",
     "output_type": "stream",
     "text": [
      "/volume/code/MMVAE_playground/train.py --lr 1e-4 --max_epochs 100 --n_dim_hidden 128 --n_dim_latent 32 --batch_size 32 --data_path /volume/mydata/video_analysis --train_set_ratio 0.9 --save_path /volume/code/MMVAE_playground/results/02-orthogonality-0910/ --session_name aorth100_nomotion_lr1e_5_n128_l32_e300 --read_sessions 22R_D1_SFO_MidBrain_g0_imec0_data 22R_D1_SFO_MidBrain_g0_imec1_data --region1 spike_matrix_th.npy --region2 video_motSVD.npy --transform std --a_neuron 1 --a_motion 1 --a_orthogonality 100\n"
     ]
    }
   ],
   "source": [
    "\n",
    "cmd_list = [\"/volume/code/MMVAE_playground/train.py\",\n",
    "          '--lr', '1e-4', '--max_epochs', '1000',\n",
    "          '--n_dim_hidden', '128', '--n_dim_latent', '32',\n",
    "          '--batch_size', '32',\n",
    "          '--data_path', '/volume/mydata/video_analysis',\n",
    "          '--train_set_ratio', '0.9',\n",
    "          '--save_path', '/volume/code/MMVAE_playground/results/02-orthogonality-0910/',\n",
    "          '--session_name', 'aorth100_nomotion_lr1e_5_n128_l32_e1000',\n",
    "          '--read_sessions','22R_D1_SFO_MidBrain_g0_imec0_data', '22R_D1_SFO_MidBrain_g0_imec1_data',\n",
    "          '--region1', 'spike_matrix_th.npy', '--region2', 'video_motSVD.npy', '--transform', 'std',\n",
    "          '--a_neuron', '1', '--a_motion', '1', '--a_orthogonality', '100']\n",
    "cmd = ' '.join(cmd_list)\n",
    "print(cmd)\n"
   ]
  },
  {
   "cell_type": "code",
   "execution_count": null,
   "id": "d3def227",
   "metadata": {},
   "outputs": [],
   "source": []
  }
 ],
 "metadata": {
  "kernelspec": {
   "display_name": "py39-base",
   "language": "python",
   "name": "python3"
  },
  "language_info": {
   "codemirror_mode": {
    "name": "ipython",
    "version": 3
   },
   "file_extension": ".py",
   "mimetype": "text/x-python",
   "name": "python",
   "nbconvert_exporter": "python",
   "pygments_lexer": "ipython3",
   "version": "3.9.18"
  }
 },
 "nbformat": 4,
 "nbformat_minor": 5
}
